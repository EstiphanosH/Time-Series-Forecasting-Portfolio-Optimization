{
 "cells": [
  {
   "cell_type": "markdown",
   "metadata": {},
   "source": [
    "# 3. Portfolio Optimization\n",
    "\n",
    "**Objective:** To construct an optimal investment portfolio using Modern Portfolio Theory (MPT). We will integrate our forecast for TSLA with historical data for all three assets to find the allocation that provides the highest expected return for a given level of risk.\n",
    "\n",
    "**Stakeholder Insight:** This is where data science translates directly into an investment strategy. Instead of relying on gut feeling or a static '60/40' rule, we are using a quantitative approach to build a portfolio tailored to the current market outlook, as informed by our model."
   ]
  },
  {
   "cell_type": "markdown",
   "metadata": {},
   "source": [
    "## 3.1. Setup"
   ]
  },
  {
   "cell_type": "code",
   "execution_count": null,
   "metadata": {},
   "outputs": [],
   "source": [
    "import pandas as pd\n",
    "import matplotlib.pyplot as plt\n",
    "import json\n",
    "import sys\n",
    "import os\n",
    "\n",
    "# Add src directory to path\n",
    "sys.path.append(os.path.abspath(os.path.join('..', 'src')))\n",
    "\n",
    "from portfolio import optimize_portfolio\n",
    "from config import FORECAST_ASSET\n",
    "from pypfopt import plotting\n",
    "\n",
    "# Configure plots\n",
    "plt.style.use('seaborn-v0_8-whitegrid')\n",
    "plt.rcParams['figure.figsize'] = (12, 7)"
   ]
  },
  {
   "cell_type": "markdown",
   "metadata": {},
   "source": [
    "## 3.2. Load Data and Forecast\n",
    "\n",
    "We need two key inputs:\n",
    "1.  The full historical price data for all assets (to calculate risk and correlations).\n",
    "2.  The forecasted annual return for TSLA (from the previous notebook)."
   ]
  },
  {
   "cell_type": "code",
   "execution_count": null,
   "metadata": {},
   "outputs": [],
   "source": [
    "data = pd.read_csv('../data/processed/all_data.csv', index_col='Date', parse_dates=True)\n",
    "\n",
    "with open('../reports/artifacts/forecast_return.json', 'r') as f:\n",
    "    forecast_data = json.load(f)\n",
    "    annual_return = forecast_data['annual_return']\n",
    "\n",
    "print(f\"Loaded forecasted annual return for TSLA: {annual_return:.2%}\")"
   ]
  },
  {
   "cell_type": "markdown",
   "metadata": {},
   "source": [
    "## 3.3. The Efficient Frontier\n",
    "\n",
    "We now apply MPT to find the **Efficient Frontier**—a curve representing the set of optimal portfolios. Any portfolio on the frontier offers the highest possible expected return for its level of risk (volatility). Our goal is to find the single best portfolio on this curve.\n",
    "\n",
    "We will target the **Maximum Sharpe Ratio Portfolio**. The Sharpe ratio measures risk-adjusted return, making it the industry standard for comparing investment strategies."
   ]
  },
  {
   "cell_type": "code",
   "execution_count": null,
   "metadata": {},
   "outputs": [],
   "source": [
    "weights, ef_model = optimize_portfolio(data, annual_return, FORECAST_ASSET)"
   ]
  },
  {
   "cell_type": "markdown",
   "metadata": {},
   "source": [
    "## 3.4. Visualize the Optimal Portfolio"
   ]
  },
  {
   "cell_type": "code",
   "execution_count": null,
   "metadata": {},
   "outputs": [],
   "source": [
    "# Plot the efficient frontier\n",
    "fig, ax = plt.subplots()\n",
    "plotting.plot_efficient_frontier(ef_model, ax=ax, show_assets=True)\n",
    "\n",
    "# Find the tangency portfolio (Max Sharpe Ratio)\n",
    "ret_tangent, std_tangent, _ = ef_model.portfolio_performance()\n",
    "ax.scatter(std_tangent, ret_tangent, marker=\"*\", s=200, c=\"red\", label=\"Max Sharpe Ratio Portfolio\")\n",
    "\n",
    "plt.title('Efficient Frontier with Optimal Portfolio')\n",
    "plt.legend()\n",
    "plt.show()"
   ]
  },
  {
   "cell_type": "markdown",
   "metadata": {},
   "source": [
    "### Stakeholder Recommendation\n",
    "\n",
    "The analysis yields a clear, data-driven portfolio allocation:\n"
   ]
  },
  {
   "cell_type": "code",
   "execution_count": null,
   "metadata": {},
   "outputs": [],
   "source": [
    "print(\"=== Recommended Optimal Portfolio Allocation ===\")\n",
    "for asset, weight in weights.items():\n",
    "    print(f\"{asset}: {weight:.1%}\")"
   ]
  },
  {
   "cell_type": "markdown",
   "metadata": {},
   "source": [
    "\n",
    "This allocation is designed to provide the best possible return for the level of risk taken, based on our model's forecast. It is an actionable strategy that can be implemented immediately.\n",
    "\n",
    "The fact that the model may allocate 0% to an asset (like BND) is a powerful insight. It suggests that, given our forward-looking view on TSLA, holding bonds in this specific mix does not improve the risk-adjusted return."
   ]
  },
  {
   "cell_type": "markdown",
   "metadata": {},
   "source": [
    "## 3.5. Conclusion and Next Steps\n",
    "\n",
    "We have successfully translated our forecast into a tangible investment strategy. The next and final step is to validate this strategy through backtesting to see how it would have performed historically.\n",
    "\n",
    "**Action:** Save the optimal weights for the final backtesting phase."
   ]
  },
  {
   "cell_type": "code",
   "execution_count": null,
   "metadata": {},
   "outputs": [],
   "source": [
    "with open('../reports/artifacts/optimal_weights.json', 'w') as f:\n",
    "    json.dump(weights, f)\n",
    "\n",
    "print(\"Optimal portfolio weights saved to reports/artifacts/\")"
   ]
  }
 ],
 "metadata": {
  "kernelspec": {
   "display_name": "Python 3 (ipykernel)",
   "language": "python",
   "name": "python3"
  },
  "language_info": {
   "codemirror_mode": {
    "name": "ipython",
    "version": 3
   },
   "file_extension": ".py",
   "mimetype": "text/x-python",
   "name": "python",
   "nbconvert_exporter": "python",
   "pygments_lexer": "ipython3",
   "version": "3.9.7"
  }
 },
 "nbformat": 4,
 "nbformat_minor": 4
}